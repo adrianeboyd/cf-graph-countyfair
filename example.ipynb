{
 "cells": [
  {
   "cell_type": "code",
   "execution_count": 1,
   "metadata": {},
   "outputs": [
    {
     "name": "stderr",
     "output_type": "stream",
     "text": [
      "/Users/beckermr/miniconda3/lib/python3.7/site-packages/github3/session.py:3: DeprecationWarning: Using or importing the ABCs from 'collections' instead of from 'collections.abc' is deprecated since Python 3.3,and in 3.9 it will stop working\n",
      "  from collections import Callable\n",
      "/Users/beckermr/miniconda3/lib/python3.7/site-packages/github3/structs.py:11: DeprecationWarning: Using or importing the ABCs from 'collections' instead of from 'collections.abc' is deprecated since Python 3.3,and in 3.9 it will stop working\n",
      "  class GitHubIterator(models.GitHubCore, collections.Iterator):\n"
     ]
    }
   ],
   "source": [
    "import logging\n",
    "\n",
    "from conda_forge_tick.utils import setup_logger\n",
    "\n",
    "setup_logger(logging.getLogger(\"conda_forge_tick\"), level=\"DEBUG\")"
   ]
  },
  {
   "cell_type": "code",
   "execution_count": 2,
   "metadata": {},
   "outputs": [
    {
     "name": "stderr",
     "output_type": "stream",
     "text": [
      "/Users/beckermr/miniconda3/lib/python3.7/site-packages/ipykernel/ipkernel.py:287: DeprecationWarning: `should_run_async` will not call `transform_cell` automatically in the future. Please pass the result to `transformed_cell` argument and any exception that happen during thetransform in `preprocessing_exc_tuple` in IPython 7.17 and above.\n",
      "  and should_run_async(code)\n",
      "2020-11-03 15:59:09,577 INFO     conda_forge_tick.make_graph || reading graph\n",
      "2020-11-03 15:59:09,578 INFO     conda_forge_tick.make_graph || start feedstock fetch loop\n",
      "2020-11-03 15:59:09,580 INFO     conda_forge_tick.make_graph || submitted all nodes\n",
      "2020-11-03 15:59:09,582 INFO     conda_forge_tick.make_graph || feedstock fetch loop completed\n",
      "2020-11-03 15:59:09,587 INFO     conda_forge_tick.make_graph || inferring nodes and edges\n",
      "2020-11-03 15:59:33,192 INFO     conda_forge_tick.make_graph || new nodes and edges inferred\n",
      "2020-11-03 15:59:33,193 INFO     conda_forge_tick.make_graph || memory usage: svmem(total=17179869184, available=5532606464, percent=67.8, used=9560084480, free=347189248, active=5137534976, inactive=4921024512, wired=4422549504)\n"
     ]
    }
   ],
   "source": [
    "from conda_forge_tick.make_graph import make_graph\n",
    "from conda_forge_tick.all_feedstocks import get_all_feedstocks\n",
    "from conda_forge_tick.utils import load_graph\n",
    "\n",
    "names = []\n",
    "gx = load_graph()\n",
    "\n",
    "gx = make_graph(names, gx)"
   ]
  },
  {
   "cell_type": "code",
   "execution_count": 3,
   "metadata": {},
   "outputs": [],
   "source": [
    "from conda_forge_tick.auto_tick import migration_factory"
   ]
  },
  {
   "cell_type": "code",
   "execution_count": 4,
   "metadata": {
    "scrolled": true
   },
   "outputs": [
    {
     "name": "stdout",
     "output_type": "stream",
     "text": [
      "~/miniconda3/share/conda-forge/migrations ~/Desktop/cf-graph-countyfair\n",
      "~/Desktop/cf-graph-countyfair\n"
     ]
    },
    {
     "name": "stderr",
     "output_type": "stream",
     "text": [
      "/Users/beckermr/miniconda3/lib/python3.7/site-packages/ipykernel/ipkernel.py:287: DeprecationWarning: `should_run_async` will not call `transform_cell` automatically in the future. Please pass the result to `transformed_cell` argument and any exception that happen during thetransform in `preprocessing_exc_tuple` in IPython 7.17 and above.\n",
      "  and should_run_async(code)\n"
     ]
    },
    {
     "name": "stdout",
     "output_type": "stream",
     "text": [
      "================================================================================\n",
      "migrator: hdf51106\n",
      "__migrator:\n",
      "  build_number: 1\n",
      "  kind: version\n",
      "  migration_number: 1\n",
      "hdf5:\n",
      "- 1.10.6\n",
      "migrator_ts: 1587001869.689825\n",
      "\n",
      "bump number is 1\n",
      "\n"
     ]
    }
   ],
   "source": [
    "mgs = []\n",
    "migration_factory(mgs, gx, only_keep=[\"hdf51106\"])"
   ]
  },
  {
   "cell_type": "code",
   "execution_count": 5,
   "metadata": {},
   "outputs": [
    {
     "name": "stderr",
     "output_type": "stream",
     "text": [
      "/Users/beckermr/miniconda3/lib/python3.7/site-packages/ipykernel/ipkernel.py:287: DeprecationWarning: `should_run_async` will not call `transform_cell` automatically in the future. Please pass the result to `transformed_cell` argument and any exception that happen during thetransform in `preprocessing_exc_tuple` in IPython 7.17 and above.\n",
      "  and should_run_async(code)\n"
     ]
    }
   ],
   "source": [
    "for i in range(len(mgs)):\n",
    "    if mgs[i].name == \"hdf51106\":\n",
    "        break\n",
    "mg = mgs[i]"
   ]
  },
  {
   "cell_type": "code",
   "execution_count": 6,
   "metadata": {},
   "outputs": [
    {
     "name": "stderr",
     "output_type": "stream",
     "text": [
      "2020-11-03 16:00:58,471 DEBUG    conda_forge_tick.migrators.core || node cyclus has PR hdf51106 open for 3 days, 10:42:25.471478\n",
      "2020-11-03 16:00:58,473 DEBUG    conda_forge_tick.migrators.core || not yet built dataloss: cyclus\n",
      "2020-11-03 16:00:58,476 DEBUG    conda_forge_tick.migrators.core || filter conda-forge-pinning: parents not built\n"
     ]
    },
    {
     "data": {
      "text/plain": [
       "True"
      ]
     },
     "execution_count": 6,
     "metadata": {},
     "output_type": "execute_result"
    }
   ],
   "source": [
    "mg.filter(mg.graph.nodes[\"conda-forge-pinning\"][\"payload\"])"
   ]
  },
  {
   "cell_type": "code",
   "execution_count": null,
   "metadata": {},
   "outputs": [],
   "source": []
  },
  {
   "cell_type": "code",
   "execution_count": null,
   "metadata": {},
   "outputs": [],
   "source": [
    "from conda_forge_tick.status_report import  graph_migrator_status"
   ]
  },
  {
   "cell_type": "code",
   "execution_count": null,
   "metadata": {},
   "outputs": [],
   "source": [
    "out2, build_sequence, gv = graph_migrator_status(mg, mg.graph)"
   ]
  },
  {
   "cell_type": "code",
   "execution_count": null,
   "metadata": {},
   "outputs": [],
   "source": [
    "gv.view()"
   ]
  },
  {
   "cell_type": "code",
   "execution_count": null,
   "metadata": {
    "scrolled": false
   },
   "outputs": [],
   "source": [
    "build_sequence"
   ]
  },
  {
   "cell_type": "code",
   "execution_count": null,
   "metadata": {},
   "outputs": [],
   "source": [
    "len(build_sequence)"
   ]
  },
  {
   "cell_type": "code",
   "execution_count": null,
   "metadata": {},
   "outputs": [],
   "source": [
    "gx.nodes[\"proj\"][\"payload\"].data"
   ]
  },
  {
   "cell_type": "code",
   "execution_count": null,
   "metadata": {},
   "outputs": [],
   "source": []
  }
 ],
 "metadata": {
  "kernelspec": {
   "display_name": "Python [conda env:root] *",
   "language": "python",
   "name": "conda-root-py"
  },
  "language_info": {
   "codemirror_mode": {
    "name": "ipython",
    "version": 3
   },
   "file_extension": ".py",
   "mimetype": "text/x-python",
   "name": "python",
   "nbconvert_exporter": "python",
   "pygments_lexer": "ipython3",
   "version": "3.7.8"
  }
 },
 "nbformat": 4,
 "nbformat_minor": 4
}
